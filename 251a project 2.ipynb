{
 "cells": [
  {
   "cell_type": "markdown",
   "id": "6daf1e5c",
   "metadata": {},
   "source": [
    "## Loading Data"
   ]
  },
  {
   "cell_type": "code",
   "execution_count": 1,
   "id": "70715f7b",
   "metadata": {},
   "outputs": [],
   "source": [
    "from ucimlrepo import fetch_ucirepo \n",
    "  \n",
    "# fetch dataset \n",
    "wine = fetch_ucirepo(id=109) \n",
    "  \n",
    "# data (as pandas dataframes) \n",
    "X = wine.data.features \n",
    "y = wine.data.targets "
   ]
  },
  {
   "cell_type": "code",
   "execution_count": 2,
   "id": "ed5d5e24",
   "metadata": {},
   "outputs": [],
   "source": [
    "import pandas as pd\n",
    "import numpy as np"
   ]
  },
  {
   "cell_type": "code",
   "execution_count": 3,
   "id": "6620a6ef",
   "metadata": {},
   "outputs": [],
   "source": [
    "data = pd.concat([X,y], axis = 1)"
   ]
  },
  {
   "cell_type": "code",
   "execution_count": 4,
   "id": "920afcb4",
   "metadata": {},
   "outputs": [],
   "source": [
    "data = data[data['class'] != 3]"
   ]
  },
  {
   "cell_type": "code",
   "execution_count": 5,
   "id": "c0cd6909",
   "metadata": {},
   "outputs": [],
   "source": [
    "X = data.iloc[:,:13]"
   ]
  },
  {
   "cell_type": "code",
   "execution_count": 6,
   "id": "70e45831",
   "metadata": {},
   "outputs": [],
   "source": [
    "y = data['class']"
   ]
  },
  {
   "cell_type": "code",
   "execution_count": 7,
   "id": "2a333018",
   "metadata": {},
   "outputs": [],
   "source": [
    "y = y.map({1: 0, 2: 1})"
   ]
  },
  {
   "cell_type": "markdown",
   "id": "ecbc1051",
   "metadata": {},
   "source": [
    "## Loss on Default Logistic Regression Model"
   ]
  },
  {
   "cell_type": "code",
   "execution_count": 8,
   "id": "eb23adbf",
   "metadata": {},
   "outputs": [],
   "source": [
    "from sklearn.linear_model import LogisticRegression\n",
    "from sklearn.model_selection import train_test_split\n",
    "from sklearn.metrics import accuracy_score,mean_squared_error, log_loss\n",
    "from sklearn.preprocessing import StandardScaler"
   ]
  },
  {
   "cell_type": "code",
   "execution_count": 9,
   "id": "8f23cfcf",
   "metadata": {},
   "outputs": [],
   "source": [
    "X_train, X_test, y_train, y_test = train_test_split(X, y, test_size=0.2, random_state=42)\n",
    "scaler = StandardScaler()\n",
    "X_train = scaler.fit_transform(X_train)\n",
    "X_test = scaler.transform(X_test)"
   ]
  },
  {
   "cell_type": "code",
   "execution_count": 10,
   "id": "0581f0f8",
   "metadata": {},
   "outputs": [
    {
     "data": {
      "text/plain": [
       "0.0026099572770529305"
      ]
     },
     "execution_count": 10,
     "metadata": {},
     "output_type": "execute_result"
    }
   ],
   "source": [
    "clf=LogisticRegression(max_iter=500,penalty=None)\n",
    "clf.fit(X_train,y_train)\n",
    "y_pred = clf.predict_proba(X_test)[:, -1]\n",
    "log_loss(y_test,y_pred)"
   ]
  },
  {
   "cell_type": "code",
   "execution_count": 21,
   "id": "cdd0aec7",
   "metadata": {},
   "outputs": [],
   "source": [
    "Lstar = log_loss(y_test, y_pred)"
   ]
  },
  {
   "cell_type": "markdown",
   "id": "532a84e2",
   "metadata": {},
   "source": [
    "## Models"
   ]
  },
  {
   "cell_type": "code",
   "execution_count": 33,
   "id": "f2d63d2f",
   "metadata": {},
   "outputs": [
    {
     "data": {
      "text/plain": [
       "0.1988766748180303"
      ]
     },
     "execution_count": 33,
     "metadata": {},
     "output_type": "execute_result"
    }
   ],
   "source": [
    "def sigmoid(z):\n",
    "    return 1 / (1 + np.exp(-z))\n",
    "\n",
    "\n",
    "def coordinate_descent_lr(X, y, method='largest_gradient', num_iterations=100, learning_rate=0.01):\n",
    "    n_samples, n_features = X.shape\n",
    "    w = np.zeros(n_features)\n",
    "    b = 0\n",
    "    losses = []\n",
    "\n",
    "    for _ in range(num_iterations):\n",
    "        for i in range(n_features):\n",
    "            if method == 'random':\n",
    "                i = np.random.randint(n_features)  # Random feature for random-feature coordinate descent\n",
    "            else:\n",
    "                y_pred = sigmoid(np.dot(X, w) + b)\n",
    "                gradients = -np.dot(X.T, (y-y_pred)) / n_samples\n",
    "                i = np.argmax(np.abs(gradients))\n",
    "                \n",
    "            feature = X[:, i]\n",
    "            y_pred = sigmoid(np.dot(X, w) + b)\n",
    "\n",
    "            # Gradient calculation\n",
    "            grad_wi = -np.dot(feature, (y - y_pred)) / n_samples\n",
    "            grad_b = -np.mean(y - y_pred)\n",
    "\n",
    "            # Update weights\n",
    "            w[i] -= learning_rate * grad_wi\n",
    "            b -= learning_rate * grad_b\n",
    "\n",
    "        # Record the loss after each full iteration over features\n",
    "        losses.append(log_loss(y, sigmoid(np.dot(X, w) + b)))\n",
    "\n",
    "    return w, b, losses\n",
    "\n",
    "# Training the models\n",
    "w_cd, b_cd, losses_cd = coordinate_descent_lr(X_train, y_train, method='largest_gradient')\n",
    "y_pred_test_cd = sigmoid(np.dot(X_test, w_cd) + b_cd)\n",
    "final_test_loss_cd = log_loss(y_test, y_pred_test_cd)\n",
    "final_test_loss_cd"
   ]
  },
  {
   "cell_type": "code",
   "execution_count": 34,
   "id": "b328a30a",
   "metadata": {},
   "outputs": [
    {
     "data": {
      "text/plain": [
       "0.33938397660178227"
      ]
     },
     "execution_count": 34,
     "metadata": {},
     "output_type": "execute_result"
    }
   ],
   "source": [
    "w_cd, b_cd, losses_cd2 = coordinate_descent_lr(X_train, y_train, method='random')\n",
    "y_pred_test_cd = sigmoid(np.dot(X_test, w_cd) + b_cd)\n",
    "final_test_loss_cd = log_loss(y_test, y_pred_test_cd)\n",
    "final_test_loss_cd"
   ]
  },
  {
   "cell_type": "code",
   "execution_count": 13,
   "id": "e2e6bad1",
   "metadata": {},
   "outputs": [],
   "source": [
    "losses2 = []\n",
    "for i in range(100):\n",
    "    w_cd, b_cd, losses_cd2 = coordinate_descent_lr(X_train, y_train, method='random')\n",
    "    y_pred_test_cd = sigmoid(np.dot(X_test, w_cd) + b_cd)\n",
    "    final_test_loss_cd = log_loss(y_test, y_pred_test_cd)\n",
    "    losses2.append(final_test_loss_cd)"
   ]
  },
  {
   "cell_type": "code",
   "execution_count": 14,
   "id": "0c911747",
   "metadata": {},
   "outputs": [
    {
     "data": {
      "text/plain": [
       "0.34932554514938013"
      ]
     },
     "execution_count": 14,
     "metadata": {},
     "output_type": "execute_result"
    }
   ],
   "source": [
    "np.array(losses2).mean()"
   ]
  },
  {
   "cell_type": "markdown",
   "id": "014a7d9b",
   "metadata": {},
   "source": [
    "### Models 2"
   ]
  },
  {
   "cell_type": "code",
   "execution_count": 15,
   "id": "f7bd695c",
   "metadata": {},
   "outputs": [],
   "source": [
    "import numpy as np\n",
    "from sklearn.metrics import log_loss\n",
    "\n",
    "def sigmoid(z):\n",
    "    return 1 / (1 + np.exp(-z))\n",
    "\n",
    "def backtracking_line_search(X, y, w, b, grad_wi, i, initial_lr=1, beta=0.8, c=1e-4):\n",
    "    lr = initial_lr\n",
    "    current_loss = log_loss(y, sigmoid(np.dot(X, w) + b))\n",
    "    updated_w = w.copy()\n",
    "    \n",
    "    while True:\n",
    "        updated_w[i] = w[i] - lr * grad_wi\n",
    "        new_loss = log_loss(y, sigmoid(np.dot(X, updated_w) + b))\n",
    "        if new_loss <= current_loss - c * lr * grad_wi**2:\n",
    "            break\n",
    "        lr *= beta\n",
    "    \n",
    "    return lr\n",
    "\n",
    "def coordinate_descent_lr2(X, y, method='largest_gradient', num_iterations=100):\n",
    "    n_samples, n_features = X.shape\n",
    "    w = np.zeros(n_features)\n",
    "    b = 0\n",
    "    losses = []\n",
    "\n",
    "    for _ in range(num_iterations):\n",
    "        for i in range(n_features):\n",
    "            if method == 'largest_gradient':\n",
    "                y_pred = sigmoid(np.dot(X, w) + b)\n",
    "                gradients = -np.dot(X.T, (y - y_pred)) / n_samples\n",
    "                i = np.argmax(np.abs(gradients))\n",
    "            else:\n",
    "                i = np.random.randint(n_features)\n",
    "\n",
    "            feature = X[:, i]\n",
    "            y_pred = sigmoid(np.dot(X, w) + b)\n",
    "            grad_wi = -np.dot(feature, (y - y_pred)) / n_samples\n",
    "            grad_b = -np.mean(y - y_pred)\n",
    "\n",
    "            # Backtracking line search to find learning rate\n",
    "            learning_rate_wi = backtracking_line_search(X, y, w, b, grad_wi, i)\n",
    "\n",
    "            # Update weights\n",
    "            w[i] -= learning_rate_wi * grad_wi\n",
    "            b -= learning_rate_wi * grad_b\n",
    "\n",
    "        losses.append(log_loss(y, sigmoid(np.dot(X, w) + b)))\n",
    "\n",
    "    return w, b, losses"
   ]
  },
  {
   "cell_type": "code",
   "execution_count": 26,
   "id": "7f0eed3c",
   "metadata": {},
   "outputs": [
    {
     "data": {
      "text/plain": [
       "0.01881000101837876"
      ]
     },
     "execution_count": 26,
     "metadata": {},
     "output_type": "execute_result"
    }
   ],
   "source": [
    "w_cd, b_cd, losses_cd3 = coordinate_descent_lr2(X_train, y_train, method='largest_gradient')\n",
    "y_pred_test_cd = sigmoid(np.dot(X_test, w_cd) + b_cd)\n",
    "final_test_loss_cd = log_loss(y_test, y_pred_test_cd)\n",
    "final_test_loss_cd"
   ]
  },
  {
   "cell_type": "code",
   "execution_count": 27,
   "id": "a74dd710",
   "metadata": {},
   "outputs": [
    {
     "data": {
      "text/plain": [
       "0.02375168327307575"
      ]
     },
     "execution_count": 27,
     "metadata": {},
     "output_type": "execute_result"
    }
   ],
   "source": [
    "w_cd, b_cd, losses_cd4 = coordinate_descent_lr2(X_train, y_train, method='random')\n",
    "y_pred_test_cd = sigmoid(np.dot(X_test, w_cd) + b_cd)\n",
    "final_test_loss_cd = log_loss(y_test, y_pred_test_cd)\n",
    "final_test_loss_cd"
   ]
  },
  {
   "cell_type": "code",
   "execution_count": 18,
   "id": "36b466a7",
   "metadata": {},
   "outputs": [],
   "source": [
    "losses2 = []\n",
    "for i in range(100):\n",
    "    w_cd, b_cd, losses_cd2 = coordinate_descent_lr2(X_train, y_train, method='random')\n",
    "    y_pred_test_cd = sigmoid(np.dot(X_test, w_cd) + b_cd)\n",
    "    final_test_loss_cd = log_loss(y_test, y_pred_test_cd)\n",
    "    losses2.append(final_test_loss_cd)"
   ]
  },
  {
   "cell_type": "code",
   "execution_count": 73,
   "id": "7e0013cb",
   "metadata": {},
   "outputs": [
    {
     "data": {
      "text/plain": [
       "0.023788428728180447"
      ]
     },
     "execution_count": 73,
     "metadata": {},
     "output_type": "execute_result"
    }
   ],
   "source": [
    "np.mean(losses2)"
   ]
  },
  {
   "cell_type": "code",
   "execution_count": 20,
   "id": "90258969",
   "metadata": {},
   "outputs": [],
   "source": [
    "import matplotlib.pyplot as plt"
   ]
  },
  {
   "cell_type": "code",
   "execution_count": 30,
   "id": "c3c62e28",
   "metadata": {},
   "outputs": [
    {
     "data": {
      "text/plain": [
       "100"
      ]
     },
     "execution_count": 30,
     "metadata": {},
     "output_type": "execute_result"
    }
   ],
   "source": [
    "len(losses_cd)"
   ]
  },
  {
   "cell_type": "code",
   "execution_count": 37,
   "id": "8e68a3aa",
   "metadata": {},
   "outputs": [
    {
     "data": {
      "image/png": "[encoded data removed]",
      "text/plain": [
       "<Figure size 640x480 with 1 Axes>"
      ]
     },
     "metadata": {},
     "output_type": "display_data"
    }
   ],
   "source": [
    "iterations = range(100)\n",
    "plt.plot(iterations, losses_cd, label = 'Max Gradient + Simple')\n",
    "plt.plot(iterations, losses_cd2, label = 'Random + Simple')\n",
    "plt.plot(iterations, losses_cd3, label = 'Max Gradient + Backtrack')\n",
    "plt.plot(iterations, losses_cd4, label = 'Random + Backtrack')\n",
    "plt.axhline(y=Lstar, color='green', linestyle='--', label='Final Loss L*')\n",
    "plt.xlabel('Iteration (t)')\n",
    "plt.ylabel('Loss L(w_t)')\n",
    "plt.title('Loss vs. Iteration')\n",
    "plt.legend()\n",
    "plt.grid(True)\n",
    "plt.show()"
   ]
  }
 ],
 "metadata": {
  "kernelspec": {
   "display_name": "Python 3 (ipykernel)",
   "language": "python",
   "name": "python3"
  },
  "language_info": {
   "codemirror_mode": {
    "name": "ipython",
    "version": 3
   },
   "file_extension": ".py",
   "mimetype": "text/x-python",
   "name": "python",
   "nbconvert_exporter": "python",
   "pygments_lexer": "ipython3",
   "version": "3.11.7"
  }
 },
 "nbformat": 4,
 "nbformat_minor": 5
}
